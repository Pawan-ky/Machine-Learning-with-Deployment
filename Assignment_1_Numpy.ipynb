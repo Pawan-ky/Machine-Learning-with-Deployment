{
 "cells": [
  {
   "cell_type": "code",
   "execution_count": 1,
   "metadata": {},
   "outputs": [],
   "source": [
    "import numpy as np"
   ]
  },
  {
   "cell_type": "markdown",
   "metadata": {},
   "source": [
    "### 1. Write a function so that the columns of the output matrix are powers of the input vector.\n",
    "### The order of the powers is determined by the increasing boolean argument. Specifically, when increasing is False, the i-th output column is the input vector raised element-wise to the power of N - i - 1."
   ]
  },
  {
   "cell_type": "code",
   "execution_count": 2,
   "metadata": {},
   "outputs": [],
   "source": [
    "inp = np.array([2,4,5,6,7])\n",
    "def vander_matrix(inp,N,increasing):\n",
    "    \n",
    "    if not increasing:\n",
    "        op = np.array([j**(N-i-1) for j in inp for i in range(N)]).reshape(inp.size,N)\n",
    "    elif increasing:\n",
    "        op = np.array([j**i for j in inp for i in range(N)]).reshape(inp.size,N)\n",
    "    return op\n",
    "\n"
   ]
  },
  {
   "cell_type": "code",
   "execution_count": 3,
   "metadata": {},
   "outputs": [
    {
     "data": {
      "text/plain": [
       "array([[ 1,  2,  4],\n",
       "       [ 1,  4, 16],\n",
       "       [ 1,  5, 25],\n",
       "       [ 1,  6, 36],\n",
       "       [ 1,  7, 49]])"
      ]
     },
     "execution_count": 3,
     "metadata": {},
     "output_type": "execute_result"
    }
   ],
   "source": [
    "vander_matrix(inp,3,True)        # in increasing sequence"
   ]
  },
  {
   "cell_type": "code",
   "execution_count": 4,
   "metadata": {},
   "outputs": [
    {
     "data": {
      "text/plain": [
       "array([[  8,   4,   2,   1],\n",
       "       [ 64,  16,   4,   1],\n",
       "       [125,  25,   5,   1],\n",
       "       [216,  36,   6,   1],\n",
       "       [343,  49,   7,   1]])"
      ]
     },
     "execution_count": 4,
     "metadata": {},
     "output_type": "execute_result"
    }
   ],
   "source": [
    "vander_matrix(inp,4,False)       # in decreasing sequence"
   ]
  },
  {
   "cell_type": "markdown",
   "metadata": {},
   "source": [
    "### 2. Write a function to find moving average in an array over a window: \n",
    "####     Test it over [3, 5, 7, 2, 8, 10, 11, 65, 72, 81, 99, 100, 150] and window of 3.\n",
    "\n",
    "##### Given a sequence of n values x1, x2, ..., xn and a window size k>0, the k-th moving average of the given sequence is defined as follows: The moving average sequence has n-k+1 elements as shown below. The moving averages with k=4 of a ten-value sequence (n=10) is shown below \n",
    "###### Input 10 20 30 40 50 60 70 80 90 100\n",
    "###### y1 :  25 = (10+20+30+40)/4\n",
    "###### y2 :  35 = (20+30+40+50)/4\n",
    "###### y3 : 45 = (30+40+50+60)/4\n",
    "###### y4 : 55 = (40+50+60+70)/4\n",
    "###### y5 : 65 = (50+60+70+80)/4\n",
    "###### y6 : 75 = (60+70+80+90)/4\n",
    "###### y7 : 85 = (70+80+90+100)/4"
   ]
  },
  {
   "cell_type": "code",
   "execution_count": 11,
   "metadata": {},
   "outputs": [
    {
     "data": {
      "text/plain": [
       "array([  5.        ,   4.66666667,   5.66666667,   6.66666667,\n",
       "         9.66666667,  28.66666667,  49.33333333,  72.66666667,\n",
       "        84.        ,  93.33333333, 116.33333333])"
      ]
     },
     "execution_count": 11,
     "metadata": {},
     "output_type": "execute_result"
    }
   ],
   "source": [
    "arr = [3, 5, 7, 2, 8, 10, 11, 65, 72, 81, 99, 100, 150]\n",
    "k = 3\n",
    "n = len(arr)\n",
    "sl = []\n",
    "for i in range(n):\n",
    "    if i < (n-k+1):\n",
    "        s = (sum(arr[i:i+k]))\n",
    "        sl.append(s)\n",
    "    ar = np.array(sl)\n",
    "    ar = np.divide(ar,k)\n",
    "ar    "
   ]
  },
  {
   "cell_type": "code",
   "execution_count": null,
   "metadata": {},
   "outputs": [],
   "source": []
  }
 ],
 "metadata": {
  "kernelspec": {
   "display_name": "Python 3",
   "language": "python",
   "name": "python3"
  },
  "language_info": {
   "codemirror_mode": {
    "name": "ipython",
    "version": 3
   },
   "file_extension": ".py",
   "mimetype": "text/x-python",
   "name": "python",
   "nbconvert_exporter": "python",
   "pygments_lexer": "ipython3",
   "version": "3.7.4"
  }
 },
 "nbformat": 4,
 "nbformat_minor": 2
}
