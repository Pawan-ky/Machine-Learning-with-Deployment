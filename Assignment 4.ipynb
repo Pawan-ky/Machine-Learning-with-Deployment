{
 "cells": [
  {
   "cell_type": "markdown",
   "metadata": {},
   "source": [
    "### 1. Write a Python Program(with class concepts) to find the area of the triangle using the formula\"area = (s*(s-a)*(s-b)*(s-c)) ** 0.5\"     Function to take the length of the sides of triangle from user should be defined in the parent class and function to calculate the area should be defined in subclass."
   ]
  },
  {
   "cell_type": "code",
   "execution_count": 13,
   "metadata": {},
   "outputs": [
    {
     "name": "stdout",
     "output_type": "stream",
     "text": [
      "enter first side\t45\n",
      "enter second side\t45\n",
      "enter third side\t45\n"
     ]
    },
    {
     "data": {
      "text/plain": [
       "768867"
      ]
     },
     "execution_count": 13,
     "metadata": {},
     "output_type": "execute_result"
    }
   ],
   "source": [
    "class triangle:\n",
    "    def __init__(self):\n",
    "        pass\n",
    "    def get_side(self):\n",
    "        self.s1 = int(input('enter first side\\t'))\n",
    "        self.s2 = int(input('enter second side\\t'))\n",
    "        self.s3 = int(input('enter third side\\t'))\n",
    "class area(triangle):\n",
    "    def __init__(self):\n",
    "        super(area,self).__init__()\n",
    "        self.s = 0\n",
    "    def get_area(self):\n",
    "        self.s = (self.s1+self.s2+self.s3)/2\n",
    "        ar = (self.s*(self.s-self.s1)*(self.s-self.s2)*(self.s-self.s3))\n",
    "        \n",
    "        return int(ar)\n",
    "\n",
    "o2 = area()\n",
    "o2.get_side()\n",
    "o2.get_area()"
   ]
  },
  {
   "cell_type": "markdown",
   "metadata": {},
   "source": [
    "### 1.2 Write a function filter_long_words() that takes a list of words and an integer n and returns the list of words that are longer than n."
   ]
  },
  {
   "cell_type": "code",
   "execution_count": null,
   "metadata": {},
   "outputs": [],
   "source": [
    "n = int(input('enter the integer\\t'))\n",
    "m = int(input('enter length of list\\t'))\n",
    "lst = []\n",
    "for i in range(m):\n",
    "    lst.append(input('enter word\\n'))\n",
    "def filter_long_words(lst,n):\n",
    "    l=[]\n",
    "    for i in lst:\n",
    "        if len(i)>n:\n",
    "            l.append(i)\n",
    "    return l\n",
    "filter_long_words(lst,n)"
   ]
  },
  {
   "cell_type": "markdown",
   "metadata": {},
   "source": [
    "### 2.1 Write a Python program using function concept that maps list of words into a list of integers representing the lengths of the corresponding words."
   ]
  },
  {
   "cell_type": "code",
   "execution_count": 2,
   "metadata": {},
   "outputs": [
    {
     "data": {
      "text/plain": [
       "[4, 5, 7, 5]"
      ]
     },
     "execution_count": 2,
     "metadata": {},
     "output_type": "execute_result"
    }
   ],
   "source": [
    "lst = ['pawn','kumar','calling','pawan']\n",
    "def length(lst):\n",
    "    k = list(map(lambda x : len(x),lst))\n",
    "    return k\n",
    "length(lst)"
   ]
  },
  {
   "cell_type": "markdown",
   "metadata": {},
   "source": [
    "### 2.2 Write a Python function which takes a character (i.e. a string of length 1) and returns True if it is a vowel, False otherwise."
   ]
  },
  {
   "cell_type": "code",
   "execution_count": 5,
   "metadata": {},
   "outputs": [
    {
     "name": "stdout",
     "output_type": "stream",
     "text": [
      "enter the charachter\tI\n"
     ]
    },
    {
     "data": {
      "text/plain": [
       "True"
      ]
     },
     "execution_count": 5,
     "metadata": {},
     "output_type": "execute_result"
    }
   ],
   "source": [
    "\n",
    "def vowel():\n",
    "    lst = ['a','e','i','o','u']\n",
    "    n = input('enter the charachter\\t')\n",
    "    if n.lower() in lst:\n",
    "        return True\n",
    "    else:\n",
    "        return False\n",
    "vowel()"
   ]
  },
  {
   "cell_type": "code",
   "execution_count": null,
   "metadata": {},
   "outputs": [],
   "source": []
  }
 ],
 "metadata": {
  "kernelspec": {
   "display_name": "Python 3",
   "language": "python",
   "name": "python3"
  },
  "language_info": {
   "codemirror_mode": {
    "name": "ipython",
    "version": 3
   },
   "file_extension": ".py",
   "mimetype": "text/x-python",
   "name": "python",
   "nbconvert_exporter": "python",
   "pygments_lexer": "ipython3",
   "version": "3.7.4"
  }
 },
 "nbformat": 4,
 "nbformat_minor": 2
}
