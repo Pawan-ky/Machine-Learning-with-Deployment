{
 "cells": [
  {
   "cell_type": "markdown",
   "metadata": {},
   "source": [
    "### 1.1 Write a Python Program to implement your own myreduce() function which works exactly like Python's built-in function reduce()"
   ]
  },
  {
   "cell_type": "code",
   "execution_count": null,
   "metadata": {},
   "outputs": [],
   "source": [
    "count = int(input('enter length of sequence '))          # make list of input sequence \n",
    "lst = []\n",
    "for i in range(count):\n",
    "    lst.append(int(input()))\n",
    "    \n",
    "def summ(x,y):\n",
    "    return x+y\n",
    "\n",
    "def myreduce(func,seq):\n",
    "        i = seq[0]\n",
    "        for j in seq[1:]:\n",
    "            i = func(i,j)\n",
    "        return i\n",
    "        \n",
    "myreduce(summ,lst)   # summ can be replaced by any function which takes two arguments \n"
   ]
  },
  {
   "cell_type": "markdown",
   "metadata": {},
   "source": [
    "### 1.2 Write a Python program to implement your own myfilter() function which works exactly like Python's built-in function filter()"
   ]
  },
  {
   "cell_type": "code",
   "execution_count": null,
   "metadata": {},
   "outputs": [],
   "source": [
    "count = int(input('enter count of sequence '))              # make list of input sequence\n",
    "lst = []\n",
    "for i in range(count):\n",
    "    lst.append(int(input()))\n",
    "    \n",
    "def evencheck(n):\n",
    "    if n%2==0:\n",
    "        return True\n",
    "    \n",
    "def myfilter(func,lst):\n",
    "    l = []\n",
    "    for i in lst:\n",
    "        if func(i)==True:\n",
    "            l.append(i)\n",
    "            \n",
    "    return l\n",
    "myfilter(evencheck,lst)  # evencheck finction can be repaced by any function which returns bool value and takes only 1 argument"
   ]
  },
  {
   "cell_type": "markdown",
   "metadata": {},
   "source": [
    "### 2. Implement List comprehensions to produce the following lists. \n",
    "#### a) ['x', 'xx', 'xxx', 'xxxx', 'y', 'yy', 'yyy', 'yyyy', 'z', 'zz', 'zzz', 'zzzz']\n",
    "#### b) ['x', 'y', 'z', 'xx', 'yy', 'zz', 'xxx', 'yyy', 'zzz', 'xxxx', 'yyyy', 'zzzz']\n",
    "#### c) [[2], [3], [4], [3], [4], [5], [4], [5], [6]]\n",
    "#### d ) [[2, 3, 4, 5], [3, 4, 5, 6],[4, 5, 6, 7], [5, 6, 7, 8]]\n",
    "#### e) [(1, 1), (2, 1), (3, 1), (1, 2), (2, 2), (3, 2), (1, 3), (2, 3), (3, 3)]"
   ]
  },
  {
   "cell_type": "code",
   "execution_count": null,
   "metadata": {},
   "outputs": [],
   "source": [
    "# A\n",
    "l = [j*i for i in ['x','y','z'] for j in range(1,5)]\n",
    "l"
   ]
  },
  {
   "cell_type": "code",
   "execution_count": null,
   "metadata": {},
   "outputs": [],
   "source": [
    "# B\n",
    "l = [j*i for i in range(1,5) for j in ['x','y','z']]\n",
    "l"
   ]
  },
  {
   "cell_type": "code",
   "execution_count": null,
   "metadata": {},
   "outputs": [],
   "source": [
    "# c \n",
    "l = [[j] for i in range(2,5) for j in range(i,i+3)]\n",
    "l\n"
   ]
  },
  {
   "cell_type": "code",
   "execution_count": null,
   "metadata": {},
   "outputs": [],
   "source": [
    "# D\n",
    "l =[[j for j in range(i,i+4)] for i in range(2,6) ]\n",
    "l"
   ]
  },
  {
   "cell_type": "code",
   "execution_count": null,
   "metadata": {},
   "outputs": [],
   "source": [
    "# E\n",
    "l = [(j,i) for i in range(1,4) for j in range(1,4)]\n",
    "l"
   ]
  },
  {
   "cell_type": "code",
   "execution_count": null,
   "metadata": {},
   "outputs": [],
   "source": []
  }
 ],
 "metadata": {
  "kernelspec": {
   "display_name": "Python 3",
   "language": "python",
   "name": "python3"
  },
  "language_info": {
   "codemirror_mode": {
    "name": "ipython",
    "version": 3
   },
   "file_extension": ".py",
   "mimetype": "text/x-python",
   "name": "python",
   "nbconvert_exporter": "python",
   "pygments_lexer": "ipython3",
   "version": "3.7.4"
  }
 },
 "nbformat": 4,
 "nbformat_minor": 2
}
